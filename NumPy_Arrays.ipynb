{
 "cells": [
  {
   "cell_type": "code",
   "execution_count": 1,
   "id": "1d65416b-40af-4c79-8761-404e7fd4ea31",
   "metadata": {},
   "outputs": [],
   "source": [
    "import numpy as np"
   ]
  },
  {
   "cell_type": "code",
   "execution_count": 3,
   "id": "f92478f2-4272-4be2-8866-b7b1d50f91c9",
   "metadata": {},
   "outputs": [],
   "source": [
    "#Create NumPy Array"
   ]
  },
  {
   "cell_type": "code",
   "execution_count": 4,
   "id": "c34e3116-bd79-4055-b541-5e4f5f7b4442",
   "metadata": {},
   "outputs": [],
   "source": [
    "my_list = [1,2,3]"
   ]
  },
  {
   "cell_type": "code",
   "execution_count": 5,
   "id": "f2b138ee-f226-46a7-b49a-40abec587d1d",
   "metadata": {},
   "outputs": [
    {
     "data": {
      "text/plain": [
       "list"
      ]
     },
     "execution_count": 5,
     "metadata": {},
     "output_type": "execute_result"
    }
   ],
   "source": [
    "type(my_list)"
   ]
  },
  {
   "cell_type": "code",
   "execution_count": 6,
   "id": "267c6d4c-ed8e-46bb-8803-f4742a36d82c",
   "metadata": {},
   "outputs": [
    {
     "data": {
      "text/plain": [
       "array([1, 2, 3])"
      ]
     },
     "execution_count": 6,
     "metadata": {},
     "output_type": "execute_result"
    }
   ],
   "source": [
    "np.array(my_list)"
   ]
  },
  {
   "cell_type": "code",
   "execution_count": 12,
   "id": "4b952898-2f48-4aa1-8dff-9fb1b459618a",
   "metadata": {},
   "outputs": [],
   "source": [
    "#Still just a list, convert to np array"
   ]
  },
  {
   "cell_type": "code",
   "execution_count": 10,
   "id": "282c1e92-4574-464e-a40a-658902c55ddf",
   "metadata": {},
   "outputs": [],
   "source": [
    "np_array = np.array(my_list)"
   ]
  },
  {
   "cell_type": "code",
   "execution_count": 11,
   "id": "8052dd6e-db80-48c7-8d83-fe6a952d4571",
   "metadata": {},
   "outputs": [
    {
     "data": {
      "text/plain": [
       "array([1, 2, 3])"
      ]
     },
     "execution_count": 11,
     "metadata": {},
     "output_type": "execute_result"
    }
   ],
   "source": [
    "np_array"
   ]
  },
  {
   "cell_type": "code",
   "execution_count": 13,
   "id": "1e3cb532-c406-4057-b7b0-40d816e82c76",
   "metadata": {},
   "outputs": [
    {
     "data": {
      "text/plain": [
       "numpy.ndarray"
      ]
     },
     "execution_count": 13,
     "metadata": {},
     "output_type": "execute_result"
    }
   ],
   "source": [
    "type(np_array)"
   ]
  },
  {
   "cell_type": "code",
   "execution_count": 14,
   "id": "4f8c8387-5033-4485-a475-ea6a8792d151",
   "metadata": {},
   "outputs": [],
   "source": [
    "#NumPy recognises nested lists as 2D"
   ]
  },
  {
   "cell_type": "code",
   "execution_count": 16,
   "id": "545b55bb-e3c4-4e1e-a4fb-710527db98a2",
   "metadata": {},
   "outputs": [
    {
     "data": {
      "text/plain": [
       "array([0, 2, 4, 6, 8])"
      ]
     },
     "execution_count": 16,
     "metadata": {},
     "output_type": "execute_result"
    }
   ],
   "source": [
    "np.arange(0,10,2) #0 through 9, with a step size of 2"
   ]
  },
  {
   "cell_type": "code",
   "execution_count": 20,
   "id": "50ff2448-b3f0-4a5a-8944-a808ab140cd8",
   "metadata": {},
   "outputs": [
    {
     "data": {
      "text/plain": [
       "array([[1., 1., 1., 1., 1.],\n",
       "       [1., 1., 1., 1., 1.]])"
      ]
     },
     "execution_count": 20,
     "metadata": {},
     "output_type": "execute_result"
    }
   ],
   "source": [
    "np.ones((2,5)) #Creates 2D array denoting rows and columns, same for 'zeros'"
   ]
  },
  {
   "cell_type": "code",
   "execution_count": 25,
   "id": "34cb1d9f-27b2-48dd-931a-e77eb2362586",
   "metadata": {},
   "outputs": [
    {
     "data": {
      "text/plain": [
       "array([ 0. ,  0.5,  1. ,  1.5,  2. ,  2.5,  3. ,  3.5,  4. ,  4.5,  5. ,\n",
       "        5.5,  6. ,  6.5,  7. ,  7.5,  8. ,  8.5,  9. ,  9.5, 10. ])"
      ]
     },
     "execution_count": 25,
     "metadata": {},
     "output_type": "execute_result"
    }
   ],
   "source": [
    "np.linspace(0,10,21) #Returns evenly spaced numbers over a specified interval - 0 through 10 with 20 intervals"
   ]
  },
  {
   "cell_type": "code",
   "execution_count": 26,
   "id": "eec7bf19-8c7b-4477-8790-6513a252efa0",
   "metadata": {},
   "outputs": [
    {
     "data": {
      "text/plain": [
       "array([[1., 0., 0., 0., 0.],\n",
       "       [0., 1., 0., 0., 0.],\n",
       "       [0., 0., 1., 0., 0.],\n",
       "       [0., 0., 0., 1., 0.],\n",
       "       [0., 0., 0., 0., 1.]])"
      ]
     },
     "execution_count": 26,
     "metadata": {},
     "output_type": "execute_result"
    }
   ],
   "source": [
    "np.eye(5) #Creates an identity matrix - Same number of rows and columns"
   ]
  },
  {
   "cell_type": "code",
   "execution_count": 29,
   "id": "8162ca04-da40-4ce7-9d92-df3ba08613c4",
   "metadata": {},
   "outputs": [
    {
     "data": {
      "text/plain": [
       "array([0.34949584, 0.88336038, 0.5352897 , 0.86010567, 0.78829931])"
      ]
     },
     "execution_count": 29,
     "metadata": {},
     "output_type": "execute_result"
    }
   ],
   "source": [
    "np.random.rand(5) #Returns a random array between 0 and 1 - 0 is inclusive, 1 is exclusive"
   ]
  },
  {
   "cell_type": "code",
   "execution_count": 30,
   "id": "81053f35-ed01-4374-b67c-15c1b62d785c",
   "metadata": {},
   "outputs": [
    {
     "data": {
      "text/plain": [
       "array([[0.21545213, 0.13808891, 0.12382092],\n",
       "       [0.03762241, 0.23617432, 0.83446996]])"
      ]
     },
     "execution_count": 30,
     "metadata": {},
     "output_type": "execute_result"
    }
   ],
   "source": [
    "np.random.rand(2, 3) #Can also pass in a shape with 2 parameters, rows x columns"
   ]
  },
  {
   "cell_type": "code",
   "execution_count": 38,
   "id": "b91363b3-2677-4dc3-b2cd-b42b16ca90cb",
   "metadata": {},
   "outputs": [
    {
     "data": {
      "text/plain": [
       "array([[ 1.00016585, -0.30773613, -0.57174056],\n",
       "       [-0.70135479, -0.35895223, -0.84290938]])"
      ]
     },
     "execution_count": 38,
     "metadata": {},
     "output_type": "execute_result"
    }
   ],
   "source": [
    "np.random.randn(2, 3) #Creates samples from a standard distribution - Mean is 0 - Numbers closer to 0 have a higher likelyhood of being selected"
   ]
  },
  {
   "cell_type": "code",
   "execution_count": 39,
   "id": "e0b6efca-a2ab-4ee4-bf9a-05a7c1c9ceb0",
   "metadata": {},
   "outputs": [
    {
     "data": {
      "text/plain": [
       "array([[59, 92, 29],\n",
       "       [74, 15, 85]])"
      ]
     },
     "execution_count": 39,
     "metadata": {},
     "output_type": "execute_result"
    }
   ],
   "source": [
    "np.random.randint(1, 101, (2,3)) #Return and array 1 inclusive, 101 exclusive in a 2 x 3 array"
   ]
  },
  {
   "cell_type": "code",
   "execution_count": 45,
   "id": "12f591e4-b687-4112-babb-489db7bf7c4c",
   "metadata": {},
   "outputs": [
    {
     "data": {
      "text/plain": [
       "array([0.37454012, 0.95071431, 0.73199394, 0.59865848, 0.15601864,\n",
       "       0.15599452, 0.05808361])"
      ]
     },
     "execution_count": 45,
     "metadata": {},
     "output_type": "execute_result"
    }
   ],
   "source": [
    "np.random.seed(42) #Seed will select a particular set of random numbers - They will always be the same - Important for testing random distribution models\n",
    "np.random.rand(7)"
   ]
  },
  {
   "cell_type": "code",
   "execution_count": 54,
   "id": "32e0b4cb-cb90-4882-b901-b7578c03ab2f",
   "metadata": {},
   "outputs": [],
   "source": [
    "#Reshape Arrays - Must fit the same number of elements"
   ]
  },
  {
   "cell_type": "code",
   "execution_count": 51,
   "id": "462fb584-4de9-49f9-ab12-f98d4d3fdf7b",
   "metadata": {},
   "outputs": [],
   "source": [
    "arr = np.arange(0,25)"
   ]
  },
  {
   "cell_type": "code",
   "execution_count": 53,
   "id": "8dd13f78-0771-4c4f-9576-7f180627b97f",
   "metadata": {},
   "outputs": [
    {
     "data": {
      "text/plain": [
       "array([[ 0,  1,  2,  3,  4],\n",
       "       [ 5,  6,  7,  8,  9],\n",
       "       [10, 11, 12, 13, 14],\n",
       "       [15, 16, 17, 18, 19],\n",
       "       [20, 21, 22, 23, 24]])"
      ]
     },
     "execution_count": 53,
     "metadata": {},
     "output_type": "execute_result"
    }
   ],
   "source": [
    "arr.reshape(5,5)"
   ]
  },
  {
   "cell_type": "code",
   "execution_count": 55,
   "id": "67b50a3f-9a8b-48cb-a2ad-42215595fe77",
   "metadata": {},
   "outputs": [
    {
     "data": {
      "text/plain": [
       "array([87, 99, 23,  2, 21, 52,  1, 87, 29, 37])"
      ]
     },
     "execution_count": 55,
     "metadata": {},
     "output_type": "execute_result"
    }
   ],
   "source": [
    "ranarr = np.random.randint(0,101,10)\n",
    "ranarr"
   ]
  },
  {
   "cell_type": "code",
   "execution_count": 61,
   "id": "c2e7e7cf-ced0-4edd-a1f2-c0a98c32b38c",
   "metadata": {},
   "outputs": [
    {
     "data": {
      "text/plain": [
       "43.8"
      ]
     },
     "execution_count": 61,
     "metadata": {},
     "output_type": "execute_result"
    }
   ],
   "source": [
    "ranarr.max() # Checks for max/min/mean value in array\n",
    "ranarr.min()\n",
    "ranarr.mean()"
   ]
  },
  {
   "cell_type": "code",
   "execution_count": 64,
   "id": "89c44751-47bc-47da-a0ea-39b49c31bb04",
   "metadata": {},
   "outputs": [
    {
     "data": {
      "text/plain": [
       "6"
      ]
     },
     "execution_count": 64,
     "metadata": {},
     "output_type": "execute_result"
    }
   ],
   "source": [
    "ranarr.argmin() #Checks for index of min number of array"
   ]
  },
  {
   "cell_type": "code",
   "execution_count": 65,
   "id": "e6c219da-3989-4a66-9548-05708ab40767",
   "metadata": {},
   "outputs": [
    {
     "data": {
      "text/plain": [
       "dtype('int32')"
      ]
     },
     "execution_count": 65,
     "metadata": {},
     "output_type": "execute_result"
    }
   ],
   "source": [
    "ranarr.dtype #Checks data type of array"
   ]
  },
  {
   "cell_type": "code",
   "execution_count": 67,
   "id": "5c7bdcf2-0a33-4ee8-990c-bb5c76fee4e1",
   "metadata": {},
   "outputs": [
    {
     "data": {
      "text/plain": [
       "(10,)"
      ]
     },
     "execution_count": 67,
     "metadata": {},
     "output_type": "execute_result"
    }
   ],
   "source": [
    "ranarr.shape #Checks shape of array"
   ]
  },
  {
   "cell_type": "code",
   "execution_count": null,
   "id": "80ca6225-c9cc-4989-85b2-6b25f1bb2cd0",
   "metadata": {},
   "outputs": [],
   "source": []
  }
 ],
 "metadata": {
  "kernelspec": {
   "display_name": "Python 3 (ipykernel)",
   "language": "python",
   "name": "python3"
  },
  "language_info": {
   "codemirror_mode": {
    "name": "ipython",
    "version": 3
   },
   "file_extension": ".py",
   "mimetype": "text/x-python",
   "name": "python",
   "nbconvert_exporter": "python",
   "pygments_lexer": "ipython3",
   "version": "3.9.7"
  }
 },
 "nbformat": 4,
 "nbformat_minor": 5
}
